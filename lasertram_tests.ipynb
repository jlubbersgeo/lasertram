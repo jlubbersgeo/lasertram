{
 "cells": [
  {
   "cell_type": "code",
   "execution_count": 1,
   "metadata": {},
   "outputs": [],
   "source": [
    "from lasertram import LaserTRAM, LaserCalc\n",
    "import lasertram as lt\n",
    "import numpy as np\n",
    "import pandas as pd\n",
    "from tqdm.notebook import tqdm\n"
   ]
  },
  {
   "cell_type": "code",
   "execution_count": 2,
   "metadata": {},
   "outputs": [
    {
     "data": {
      "text/html": [
       "<div>\n",
       "<style scoped>\n",
       "    .dataframe tbody tr th:only-of-type {\n",
       "        vertical-align: middle;\n",
       "    }\n",
       "\n",
       "    .dataframe tbody tr th {\n",
       "        vertical-align: top;\n",
       "    }\n",
       "\n",
       "    .dataframe thead th {\n",
       "        text-align: right;\n",
       "    }\n",
       "</style>\n",
       "<table border=\"1\" class=\"dataframe\">\n",
       "  <thead>\n",
       "    <tr style=\"text-align: right;\">\n",
       "      <th></th>\n",
       "      <th>timestamp</th>\n",
       "      <th>Time</th>\n",
       "      <th>7Li</th>\n",
       "      <th>24Mg</th>\n",
       "      <th>27Al</th>\n",
       "      <th>29Si</th>\n",
       "      <th>43Ca</th>\n",
       "      <th>48Ti</th>\n",
       "      <th>57Fe</th>\n",
       "      <th>88Sr</th>\n",
       "      <th>138Ba</th>\n",
       "      <th>139La</th>\n",
       "      <th>140Ce</th>\n",
       "      <th>153Eu</th>\n",
       "      <th>208Pb</th>\n",
       "    </tr>\n",
       "    <tr>\n",
       "      <th>SampleLabel</th>\n",
       "      <th></th>\n",
       "      <th></th>\n",
       "      <th></th>\n",
       "      <th></th>\n",
       "      <th></th>\n",
       "      <th></th>\n",
       "      <th></th>\n",
       "      <th></th>\n",
       "      <th></th>\n",
       "      <th></th>\n",
       "      <th></th>\n",
       "      <th></th>\n",
       "      <th></th>\n",
       "      <th></th>\n",
       "      <th></th>\n",
       "    </tr>\n",
       "  </thead>\n",
       "  <tbody>\n",
       "    <tr>\n",
       "      <th>BCR-2G_1</th>\n",
       "      <td>2021-03-01 22:08:14</td>\n",
       "      <td>13.24</td>\n",
       "      <td>500.010000</td>\n",
       "      <td>0.0</td>\n",
       "      <td>100.0004</td>\n",
       "      <td>46285.535670</td>\n",
       "      <td>100.0004</td>\n",
       "      <td>0.0000</td>\n",
       "      <td>600.014400</td>\n",
       "      <td>0.0</td>\n",
       "      <td>0.0</td>\n",
       "      <td>0.0</td>\n",
       "      <td>0.0</td>\n",
       "      <td>0.0</td>\n",
       "      <td>100.0004</td>\n",
       "    </tr>\n",
       "    <tr>\n",
       "      <th>BCR-2G_1</th>\n",
       "      <td>2021-03-01 22:08:14</td>\n",
       "      <td>163.60</td>\n",
       "      <td>700.019601</td>\n",
       "      <td>0.0</td>\n",
       "      <td>200.0016</td>\n",
       "      <td>43274.778818</td>\n",
       "      <td>0.0000</td>\n",
       "      <td>200.0016</td>\n",
       "      <td>900.032401</td>\n",
       "      <td>0.0</td>\n",
       "      <td>0.0</td>\n",
       "      <td>0.0</td>\n",
       "      <td>0.0</td>\n",
       "      <td>0.0</td>\n",
       "      <td>0.0000</td>\n",
       "    </tr>\n",
       "    <tr>\n",
       "      <th>BCR-2G_1</th>\n",
       "      <td>2021-03-01 22:08:14</td>\n",
       "      <td>313.96</td>\n",
       "      <td>600.014400</td>\n",
       "      <td>0.0</td>\n",
       "      <td>400.0064</td>\n",
       "      <td>46586.651171</td>\n",
       "      <td>300.0036</td>\n",
       "      <td>200.0016</td>\n",
       "      <td>1000.040002</td>\n",
       "      <td>0.0</td>\n",
       "      <td>0.0</td>\n",
       "      <td>0.0</td>\n",
       "      <td>0.0</td>\n",
       "      <td>0.0</td>\n",
       "      <td>200.0016</td>\n",
       "    </tr>\n",
       "    <tr>\n",
       "      <th>BCR-2G_1</th>\n",
       "      <td>2021-03-01 22:08:14</td>\n",
       "      <td>464.23</td>\n",
       "      <td>800.025601</td>\n",
       "      <td>0.0</td>\n",
       "      <td>100.0004</td>\n",
       "      <td>45683.326387</td>\n",
       "      <td>100.0004</td>\n",
       "      <td>100.0004</td>\n",
       "      <td>1400.078404</td>\n",
       "      <td>0.0</td>\n",
       "      <td>0.0</td>\n",
       "      <td>0.0</td>\n",
       "      <td>0.0</td>\n",
       "      <td>0.0</td>\n",
       "      <td>0.0000</td>\n",
       "    </tr>\n",
       "    <tr>\n",
       "      <th>BCR-2G_1</th>\n",
       "      <td>2021-03-01 22:08:14</td>\n",
       "      <td>614.50</td>\n",
       "      <td>600.014400</td>\n",
       "      <td>0.0</td>\n",
       "      <td>300.0036</td>\n",
       "      <td>46185.165445</td>\n",
       "      <td>200.0016</td>\n",
       "      <td>200.0016</td>\n",
       "      <td>700.019601</td>\n",
       "      <td>0.0</td>\n",
       "      <td>0.0</td>\n",
       "      <td>0.0</td>\n",
       "      <td>0.0</td>\n",
       "      <td>0.0</td>\n",
       "      <td>0.0000</td>\n",
       "    </tr>\n",
       "  </tbody>\n",
       "</table>\n",
       "</div>"
      ],
      "text/plain": [
       "                      timestamp    Time         7Li  24Mg      27Al  \\\n",
       "SampleLabel                                                           \n",
       "BCR-2G_1    2021-03-01 22:08:14   13.24  500.010000   0.0  100.0004   \n",
       "BCR-2G_1    2021-03-01 22:08:14  163.60  700.019601   0.0  200.0016   \n",
       "BCR-2G_1    2021-03-01 22:08:14  313.96  600.014400   0.0  400.0064   \n",
       "BCR-2G_1    2021-03-01 22:08:14  464.23  800.025601   0.0  100.0004   \n",
       "BCR-2G_1    2021-03-01 22:08:14  614.50  600.014400   0.0  300.0036   \n",
       "\n",
       "                     29Si      43Ca      48Ti         57Fe  88Sr  138Ba  \\\n",
       "SampleLabel                                                               \n",
       "BCR-2G_1     46285.535670  100.0004    0.0000   600.014400   0.0    0.0   \n",
       "BCR-2G_1     43274.778818    0.0000  200.0016   900.032401   0.0    0.0   \n",
       "BCR-2G_1     46586.651171  300.0036  200.0016  1000.040002   0.0    0.0   \n",
       "BCR-2G_1     45683.326387  100.0004  100.0004  1400.078404   0.0    0.0   \n",
       "BCR-2G_1     46185.165445  200.0016  200.0016   700.019601   0.0    0.0   \n",
       "\n",
       "             139La  140Ce  153Eu     208Pb  \n",
       "SampleLabel                                 \n",
       "BCR-2G_1       0.0    0.0    0.0  100.0004  \n",
       "BCR-2G_1       0.0    0.0    0.0    0.0000  \n",
       "BCR-2G_1       0.0    0.0    0.0  200.0016  \n",
       "BCR-2G_1       0.0    0.0    0.0    0.0000  \n",
       "BCR-2G_1       0.0    0.0    0.0    0.0000  "
      ]
     },
     "execution_count": 2,
     "metadata": {},
     "output_type": "execute_result"
    }
   ],
   "source": [
    "data = pd.read_excel(r\"C:\\Users\\jlubbers\\OneDrive - DOI\\Research\\Coding\\laserTRAM-DB\\tests\\spot_test_timestamp_raw_data.xlsx\").set_index('SampleLabel')\n",
    "data.head()"
   ]
  },
  {
   "cell_type": "code",
   "execution_count": 3,
   "metadata": {},
   "outputs": [],
   "source": [
    "samples = data.index.unique().dropna().tolist()\n",
    "\n",
    "sample = samples[0]\n",
    "\n",
    "bkgd_interval = (5,10)\n",
    "keep_interval = (20,50)\n",
    "\n",
    "spot = LaserTRAM(name = sample)\n",
    "spot.get_data(data.loc[sample,:])\n",
    "spot.assign_int_std(\"29Si\")\n",
    "spot.assign_intervals(bkgd_interval, keep_interval)\n",
    "spot.get_bkgd_data()\n",
    "spot.subtract_bkgd()\n",
    "spot.get_detection_limits()\n",
    "spot.subtract_bkgd()\n",
    "spot.normalize_interval()\n",
    "spot.make_output_report()"
   ]
  },
  {
   "cell_type": "code",
   "execution_count": null,
   "metadata": {},
   "outputs": [],
   "source": []
  },
  {
   "cell_type": "code",
   "execution_count": 4,
   "metadata": {},
   "outputs": [],
   "source": [
    "spot = LaserTRAM(name = sample)\n",
    "lt.process_spot(\n",
    "        spot,\n",
    "        raw_data = data.loc[sample,:],\n",
    "        bkgd = (5,10),\n",
    "        keep = (20,50),\n",
    "        internal_std = \"29Si\",\n",
    "        despike = False,\n",
    "        output_report = True\n",
    "        )"
   ]
  },
  {
   "cell_type": "code",
   "execution_count": null,
   "metadata": {},
   "outputs": [],
   "source": []
  },
  {
   "cell_type": "code",
   "execution_count": 5,
   "metadata": {},
   "outputs": [
    {
     "name": "stdout",
     "output_type": "stream",
     "text": [
      "PROCESSING SPOTS\n",
      "\n"
     ]
    },
    {
     "data": {
      "application/vnd.jupyter.widget-view+json": {
       "model_id": "734669200b0949a0be4b476721c9b680",
       "version_major": 2,
       "version_minor": 0
      },
      "text/plain": [
       "  0%|          | 0/40 [00:00<?, ?it/s]"
      ]
     },
     "metadata": {},
     "output_type": "display_data"
    },
    {
     "name": "stdout",
     "output_type": "stream",
     "text": [
      "COMBINING OUTPUT REPORTS\n",
      "\n"
     ]
    },
    {
     "data": {
      "application/vnd.jupyter.widget-view+json": {
       "model_id": "0ef16ce10a0e45c3995ab3774609076a",
       "version_major": 2,
       "version_minor": 0
      },
      "text/plain": [
       "  0%|          | 0/40 [00:00<?, ?it/s]"
      ]
     },
     "metadata": {},
     "output_type": "display_data"
    }
   ],
   "source": [
    "bkgd_interval = (5,8)\n",
    "keep_interval = (25,45)\n",
    "\n",
    "int_std = \"29Si\"\n",
    "\n",
    "my_spots = []\n",
    "print(\"PROCESSING SPOTS\\n\")\n",
    "for sample in tqdm(samples):\n",
    "    spot = LaserTRAM(name = sample)\n",
    "    lt.process_spot(\n",
    "        spot,\n",
    "        raw_data = data.loc[sample,:],\n",
    "        bkgd = bkgd_interval,\n",
    "        keep = keep_interval,\n",
    "        internal_std = int_std,\n",
    "        despike = False,\n",
    "        output_report = True\n",
    "        )\n",
    "    my_spots.append(spot)\n",
    "\n",
    "print(\"COMBINING OUTPUT REPORTS\\n\")\n",
    "processed_df = pd.DataFrame()\n",
    "for spot in tqdm(my_spots):\n",
    "    processed_df = pd.concat([processed_df,spot.output_report])\n"
   ]
  },
  {
   "cell_type": "code",
   "execution_count": 6,
   "metadata": {},
   "outputs": [],
   "source": [
    "srm_data = pd.read_excel(r\"C:\\Users\\jlubbers\\OneDrive - DOI\\Research\\Coding\\laserTRAM-DB\\tests\\laicpms_stds_tidy.xlsx\")\n"
   ]
  },
  {
   "cell_type": "code",
   "execution_count": 8,
   "metadata": {},
   "outputs": [],
   "source": [
    "concentrations = LaserCalc(name=\"experiment_test\")\n",
    "concentrations.get_SRM_comps(srm_data)\n",
    "concentrations.get_data(processed_df)\n",
    "concentrations.set_calibration_standard(\"BCR-2G\")\n",
    "concentrations.drift_check()\n",
    "concentrations.get_calibration_std_ratios()\n",
    "concentrations.set_internal_standard_concentrations(\n",
    "    concentrations.data[\"Spot\"],\n",
    "    np.full(concentrations.data[\"Spot\"].shape[0], 71.9),\n",
    "    np.full(concentrations.data[\"Spot\"].shape[0], 1),\n",
    ")\n",
    "concentrations.calculate_concentrations(SRM = True)\n",
    "# concentrations.calculate_concentrations(SRM = False)\n"
   ]
  },
  {
   "cell_type": "code",
   "execution_count": null,
   "metadata": {},
   "outputs": [],
   "source": []
  }
 ],
 "metadata": {
  "kernelspec": {
   "display_name": "Python 3",
   "language": "python",
   "name": "python3"
  },
  "language_info": {
   "codemirror_mode": {
    "name": "ipython",
    "version": 3
   },
   "file_extension": ".py",
   "mimetype": "text/x-python",
   "name": "python",
   "nbconvert_exporter": "python",
   "pygments_lexer": "ipython3",
   "version": "3.10.11"
  },
  "orig_nbformat": 4
 },
 "nbformat": 4,
 "nbformat_minor": 2
}
